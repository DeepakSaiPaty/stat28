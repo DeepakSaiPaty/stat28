{
  "nbformat": 4,
  "nbformat_minor": 0,
  "metadata": {
    "colab": {
      "name": "Copy of fourth_inclass.ipynb",
      "provenance": [],
      "collapsed_sections": [],
      "include_colab_link": true
    },
    "kernelspec": {
      "name": "python3",
      "display_name": "Python 3"
    }
  },
  "cells": [
    {
      "cell_type": "markdown",
      "metadata": {
        "id": "view-in-github",
        "colab_type": "text"
      },
      "source": [
        "<a href=\"https://colab.research.google.com/github/DeepakSaiPaty/stat28/blob/master/Copy_of_fourth_inclass.ipynb\" target=\"_parent\"><img src=\"https://colab.research.google.com/assets/colab-badge.svg\" alt=\"Open In Colab\"/></a>"
      ]
    },
    {
      "cell_type": "code",
      "metadata": {
        "id": "lysKUiaonR-s",
        "colab_type": "code",
        "outputId": "65f2800a-65a0-427a-842c-cf5e4ab245ae",
        "colab": {
          "base_uri": "https://localhost:8080/",
          "height": 107
        }
      },
      "source": [
        "pip install pysbd"
      ],
      "execution_count": 0,
      "outputs": [
        {
          "output_type": "stream",
          "text": [
            "Collecting pysbd\n",
            "  Downloading https://files.pythonhosted.org/packages/3b/49/4799b3cdf80aee5fa4562a3929eda738845900bbeef4ee60481196ad4d1a/pysbd-0.2.3-py3-none-any.whl\n",
            "Installing collected packages: pysbd\n",
            "Successfully installed pysbd-0.2.3\n"
          ],
          "name": "stdout"
        }
      ]
    },
    {
      "cell_type": "code",
      "metadata": {
        "id": "ILXQqEewng55",
        "colab_type": "code",
        "outputId": "0d010108-ac68-4f51-f6cc-7c24f8bf82b4",
        "colab": {
          "base_uri": "https://localhost:8080/",
          "height": 34
        }
      },
      "source": [
        "# 1.1.1 Number of sentences \n",
        "d = open(\"file.txt\", \"r\", encoding='cp1252')\n",
        "f = d.read()\n",
        "import pysbd\n",
        "seg = pysbd.Segmenter(language =\"en\", clean = False)\n",
        "segmentedlist  = seg.segment(f)\n",
        "num = len(segmentedlist)\n",
        "print(\"Total number of sentences in the given text file:-\", num)"
      ],
      "execution_count": 0,
      "outputs": [
        {
          "output_type": "stream",
          "text": [
            "Total number of sentences in the given text file:- 220\n"
          ],
          "name": "stdout"
        }
      ]
    },
    {
      "cell_type": "code",
      "metadata": {
        "id": "y-E3iTBXnnu3",
        "colab_type": "code",
        "outputId": "b749b195-c089-4bcb-b706-0d2c2e0f7916",
        "colab": {
          "base_uri": "https://localhost:8080/",
          "height": 34
        }
      },
      "source": [
        "#1.1.2 Number of words\n",
        "from collections import Counter\n",
        "#word_list = f.split()\n",
        "words = f.split()\n",
        "print('Number of words in text file :', len(words))"
      ],
      "execution_count": 0,
      "outputs": [
        {
          "output_type": "stream",
          "text": [
            "Number of words in text file : 3707\n"
          ],
          "name": "stdout"
        }
      ]
    },
    {
      "cell_type": "code",
      "metadata": {
        "id": "YtXaJii_sU9A",
        "colab_type": "code",
        "outputId": "e6e52434-3ce6-40da-f5a7-a6946a4fb063",
        "colab": {
          "base_uri": "https://localhost:8080/",
          "height": 34
        }
      },
      "source": [
        "#1.1.3 Number of characters \n",
        "number_of_characters = len(f)\n",
        "print(\"Number of characters in the Text file:-\", number_of_characters)"
      ],
      "execution_count": 0,
      "outputs": [
        {
          "output_type": "stream",
          "text": [
            "Number of characters in the Text file:- 20453\n"
          ],
          "name": "stdout"
        }
      ]
    },
    {
      "cell_type": "code",
      "metadata": {
        "id": "4p2FW4Gcwfno",
        "colab_type": "code",
        "outputId": "7179abff-1161-4366-a9e4-744e171a1ca6",
        "colab": {
          "base_uri": "https://localhost:8080/",
          "height": 34
        }
      },
      "source": [
        "#1.1.4 Average word length ---- Method 1\n",
        "d = open(\"file.txt\", \"r\", encoding='cp1252')\n",
        "total_wordcount_sum = 0\n",
        "total_wordlength_sum = 0\n",
        "for line in d:\n",
        "    word_1 = line.split()\n",
        "    # sum up the word counts\n",
        "    total_wordcount_sum += len(word_1)\n",
        "    for w in word_1:\n",
        "        # sum up the word lengths\n",
        "        total_wordlength_sum += len(w)\n",
        "# invoke floating point division for Python versions < 3.0\n",
        "total_wordlength_average = total_wordlength_sum/float(total_wordcount_sum)\n",
        "print(\"Average word length:- \", total_wordlength_average)\n"
      ],
      "execution_count": 0,
      "outputs": [
        {
          "output_type": "stream",
          "text": [
            "Average word length:-  4.510385756676558\n"
          ],
          "name": "stdout"
        }
      ]
    },
    {
      "cell_type": "code",
      "metadata": {
        "id": "pWdTFm9axg-7",
        "colab_type": "code",
        "outputId": "4d474a1d-1858-4174-af7d-e4b2ba6bcfa5",
        "colab": {
          "base_uri": "https://localhost:8080/",
          "height": 34
        }
      },
      "source": [
        "#1.1.4 Average word length ---- Method 2\n",
        "with  open(\"file.txt\", \"r\", encoding='cp1252') as f:\n",
        "  w = [len(word) for line in f for word in line.rstrip().split(\" \")]\n",
        "  w_avg = sum(w)/len(w)\n",
        "  print(\"Average word length:- \", w_avg)"
      ],
      "execution_count": 0,
      "outputs": [
        {
          "output_type": "stream",
          "text": [
            "Average word length:-  4.478971336726493\n"
          ],
          "name": "stdout"
        }
      ]
    },
    {
      "cell_type": "code",
      "metadata": {
        "id": "ymPo7t4l3EWG",
        "colab_type": "code",
        "colab": {}
      },
      "source": [
        "pip install stop-words"
      ],
      "execution_count": 0,
      "outputs": []
    },
    {
      "cell_type": "code",
      "metadata": {
        "id": "5lxEiHnI73zw",
        "colab_type": "code",
        "colab": {}
      },
      "source": [
        "pip install nltk"
      ],
      "execution_count": 0,
      "outputs": []
    },
    {
      "cell_type": "code",
      "metadata": {
        "id": "_zSvQwjcNCUH",
        "colab_type": "code",
        "colab": {}
      },
      "source": [
        "#1.1.5 Number of stopwords\n"
      ],
      "execution_count": 0,
      "outputs": []
    },
    {
      "cell_type": "code",
      "metadata": {
        "id": "bwP0JUtMC1mm",
        "colab_type": "code",
        "outputId": "83e04795-a905-46c6-e471-c276b68afe01",
        "colab": {
          "base_uri": "https://localhost:8080/",
          "height": 34
        }
      },
      "source": [
        "#1.1.6 Number of Special Characters \n",
        "\n",
        "special_char = 0\n",
        "for line in f:\n",
        "  special_char += sum(not x.isalnum() for x in line)\n",
        "print(\"Total number of special characters in the file:=\", special_char)"
      ],
      "execution_count": 0,
      "outputs": [
        {
          "output_type": "stream",
          "text": [
            "Total number of special characters in the file:= 4550\n"
          ],
          "name": "stdout"
        }
      ]
    },
    {
      "cell_type": "code",
      "metadata": {
        "id": "8PSwdKEUISCn",
        "colab_type": "code",
        "outputId": "fc61c290-39ae-49cc-b908-29383665d913",
        "colab": {
          "base_uri": "https://localhost:8080/",
          "height": 34
        }
      },
      "source": [
        "#1.1.7 Number of numerics\n",
        "\n",
        "value = [ i for i in f]\n",
        "numerics = len(list(filter(lambda x: x.isdigit(), value)))\n",
        "print(\"The Number of numerics:-\", numerics)"
      ],
      "execution_count": 0,
      "outputs": [
        {
          "output_type": "stream",
          "text": [
            "The Number of numerics:- 356\n"
          ],
          "name": "stdout"
        }
      ]
    },
    {
      "cell_type": "code",
      "metadata": {
        "id": "LYDZKRqDDSk3",
        "colab_type": "code",
        "outputId": "38db03a3-3e97-44f8-b25c-e7eb2451c312",
        "colab": {
          "base_uri": "https://localhost:8080/",
          "height": 34
        }
      },
      "source": [
        "#1.1.8 Number of uppercase words. Method-1\n",
        "\n",
        "uppercase_words = len(list(filter(lambda x: x.isupper(), value)))\n",
        "print(\"The Number of uppercase words:-\", uppercase_words)"
      ],
      "execution_count": 0,
      "outputs": [
        {
          "output_type": "stream",
          "text": [
            "The Number of uppercase words:- 695\n"
          ],
          "name": "stdout"
        }
      ]
    },
    {
      "cell_type": "code",
      "metadata": {
        "id": "2Osft5sQEhqy",
        "colab_type": "code",
        "outputId": "fcdfe9ae-837b-4e13-feda-77656f7113b9",
        "colab": {
          "base_uri": "https://localhost:8080/",
          "height": 34
        }
      },
      "source": [
        "#1.1.8 Number of uppercase words. Method-2\n",
        "d = open(\"file.txt\", \"r\", encoding='cp1252')\n",
        "f = d.read()\n",
        "uppercase_words = 0\n",
        "uppercase =['A','B','C','D','E','F','G','H','I','J','K','L','M','N','O','P','Q','R','S','T','U','V','W','X','Y','Z']\n",
        "for character in f:\n",
        "  if character in uppercase:\n",
        "    uppercase_words += 1\n",
        "print('The Number of uppercase words is:-',uppercase_words)"
      ],
      "execution_count": 0,
      "outputs": [
        {
          "output_type": "stream",
          "text": [
            "The Number of uppercase words is:- 695\n"
          ],
          "name": "stdout"
        }
      ]
    },
    {
      "cell_type": "code",
      "metadata": {
        "id": "a9IZD7mzHgin",
        "colab_type": "code",
        "colab": {}
      },
      "source": [
        "#1.2.1 Lower casing all the data\n",
        "\n",
        "with open(\"file.txt\", \"r\", encoding='cp1252') as f:\n",
        "   for line in f:\n",
        "       line = line.lower()\n",
        "       print(line)"
      ],
      "execution_count": 0,
      "outputs": []
    },
    {
      "cell_type": "code",
      "metadata": {
        "id": "QkpQMvCzbozM",
        "colab_type": "code",
        "outputId": "e77c0e4d-53d7-4258-aab4-bfb9a6837a80",
        "colab": {
          "base_uri": "https://localhost:8080/",
          "height": 1000
        }
      },
      "source": [
        "#1.2.2  Punctuation removal for all the data \n",
        "import re\n",
        "string = open(\"file.txt\", \"r\", encoding='cp1252').read() # open the input text file and read\n",
        "no_specials_string = re.sub('[!#?,.:\";]', '', string) # remove the Punctuation\n",
        "print(no_specials_string)"
      ],
      "execution_count": 0,
      "outputs": [
        {
          "output_type": "stream",
          "text": [
            "\n",
            "5 Ala 740\n",
            "Supreme Court of Alabama\n",
            "ADAMS\n",
            "v\n",
            "TANNER AND HORTON\n",
            "June Term 1843\n",
            "Synopsis\n",
            "WRIT of Error to the Circuit Court of Sumter\n",
            " \n",
            "\n",
            "\n",
            "West Headnotes (2)\n",
            "\n",
            "\n",
            "[1]\n",
            "Chattel Mortgages\n",
            "Crops\n",
            "A growing crop has such an existence as to be the subject-matter of a mortgage or other contract which passes an interest to vest in possession either immediately or at a future time\n",
            "4 Cases that cite this headnote\n",
            "\n",
            "[2]\n",
            "Creditors’ Remedies\n",
            "Lien and Priority\n",
            "Under St1821 prohibiting a levy on a crop until it has been gathered no lien attaches in favor of a fi fa on a growing crop nor does such lien attach until after the crop has been gathered\n",
            "5 Cases that cite this headnote\n",
            "\n",
            "**1 This was a trial of the right of property under the statute In November 1840 an execution issued from the circuit court of Sumter at the suit of the plaintiff in error requiring the sheriff of that county to make of the goods &c of Allen Harrison and others the sum of thirty-seven hundred and seventy-seven 80-100 dollars besides costs This execution was levied on thirty bales of cotton as the property of Allen Harrison which was claimed and a bond given to try the right An issue was made up to try the question of the liability of the cotton to the plaintiff’s execution and submitted to a jury On the trial a bill of exceptions was sealed at the instance of the plaintiff The plaintiff proved that he recovered his judgment in October 1839 that an execution *741 was issued thereon on the 7th Nov thereafter and that alias and pluries fieri facias’ issued regularly up to the time levy was made that the cotton levied on was growed on the plantation of Harrison and cultivated by the hands in his service It was proved by the claimants by the production of a written contract that Harrison on the twenty-second of May 1840 in consideration that the claimants were involved as indorsers for Burton & Harrison of Sumter county and were then exposed to an execution amounting to upwards of fourteen thousand dollars bargained and sold to the claimants all his growing crop of cotton &c consisting of one hundred and twenty acres &c Allen Harrison promised and obliged himself to give up his crop to the use of the claimants at any time to save them from suffering as his indorsers if the crop matured and was gathered he undertook to deliver the cotton in Gainesville The claimants came from Tennessee (where they resided) about the first of September 1840 bringing with them three or four white laborers and took possession of the crop and slaves and with the latter and white laborers gathered the cotton prepared it for market and when levied on it was in a ware-house in Gainesville The plaintiff then proved by Harrison that the claimants took possession of the crop while he was absent and disposed of it without his consent It was admitted that the contract was made in good faith\n",
            "The court charged the jury that the plaintiff had no lien by virtue of his judgment and execution on the growing crop that Harrison had a right to convey it without being in any manner restrained by them that the writing adduced was a sale of the crop but if it was not and the lien of the fieri facias would have attached upon it when gathered yet if the claimants obtained possession on the first of September and controlled the gathering of the crop then no lien attached and it was not subject to the levy\n",
            "Attorneys and Law Firms\n",
            "R H SMITH for the plaintiff in error made the following points--1 The crop of Harrison must in May 1840 have been in an immature state and it is insisted was not the subject of a sale 2 By the common law a growing crop could be levied on and sold [1 Salk Rep 361 1 Bos & P Rep 307 6 East’s Rep 604 note 1 2 Johns Rep 418 422 7 Mass Rep 34] and our statue [[[Aik Dig § 41 p 167] which forbids the levy of an *742 execution on a growing crop is to receive a strict construction It merely inhibits the levy but the lien attaches and a levy and sale may be made after the crop matures and is gathered 3 The contract does not purport to convey the growing crop but is a mere executory agreement requiring some act to be done by Harrison in order to invest the claimants with the right of property [Chit on Con 112 207 3 Johns Rep 338 424 5 Wend Rep 26 13 Johns Rep 235 8 Dowl Rep 693] and until this act was done the crop no matter by who gathered because liable to be seized for Harrison’s debts A court of chancery would not compel a specific performance of the contract at the claimant’s instance 4 The charge of the court is also objectionable in deciding disputed facts\n",
            "W M MURPHY with whom was W G JONES for the defendant--cited the act of 1821 [Aik Dig 167] which declares it to be lawful to levy an execution on a planted crop until it is gathered and contended that no lien attached in favor of the plaintiff This being the case the defendant in execution was not restrained from making the contract which he did with the claimants\n",
            "**2 The lien of an execution is destroyed by an injunction because it takes away the right to levy it In short whenever the right to levy an execution is but temporarily suspended or withdrawn the lien is during that time lost [[[[Whipple v Foot 2 Johns Rep 216 3 Wash C C Rep 66 4 How Rep 130]\n",
            "It is admitted that the contract between the defendant in execution and the claimants was in good faith if so the severance and removal of the cotton gave the latter a good title against all creditors of the former\n",
            "Opinion\n",
            "\n",
            "COLLIER C J\n",
            "\n",
            "There can be no doubt that a growing crop has such an existence as to be the subject matter of a sale mortgage or other contract which possess an interest to vest in possession either immediately or at some future time This proposition has frequently been assumed as unquestionable the point of inquiry generally being whether under a statute of frauds such as the 29 Chas 2 it is a mere chattel and transferrable by parol without writing [Chitty on Con 241-2 332 Whipple v Foot 2 Johns Rep 422 Stewart v Doughty 9 Johns Rep 112 *743 Austin v Sawyer 9 Cow Rep 39 See also Ravesies v Lee & Alston at last term] The contract set out in the bill of exceptions we are inclined to think evidences rather a mortgage than an absolute sale It recites that the claimants are involved as indorsers of a mercantile firm of which the defendant was a partner that an execution for upwards of fourteen thousand dollars against their estate is in the sheriff’s hands and that a conveyance is made of the crop of cotton corn and oats which the grantor agrees to give up at any time to the use of the claimants so as to prevent injury to them as indorsers The defendant in execution might at any time have divested the interest which the contract vested in the claimants by discharging their liability as his indorsers or a judgment creditor might have satisfied the lien and when the crop was gathered have levied on and sold it under a fieri facias\n",
            "We will then consider the writing under which the claimants assert a right as a mortgage with a power to take possession any time during the year unless they should be relieved from their engagements as indorsers It is not pretended that their liability has been satisfied and it is admitted that the parties have acted with good faith so that it is a dry question of law whether the right of the plaintiff or the claimants shall prevail Assuming for the present that the execution of the plaintiffs did not operate a lien upon the planted crop previous to the contract of May 1840 we will inquire whether the defendant in execution had such an interest as could be levied on and sold\n",
            "The claimants had previous to the levy of the execution taken possession of the crop prepared the cotton for market and removed it to a ware-house This possession it is insisted was a trespass because it was acquired in the absence of the defendant in execution and without his consent then given Conceding the truth of the facts stated in the bill of exceptions and we think it will not follow that the possession of the claimants is a nullity and that the case must be considered as if they had never interfered with the crop The contract contains an express undertaking to give up the crop at any time the claimants might require it for their indemnity and if they took possession of it in the absence of the grantor (though without his consent) if he subsequently acquiesced in it the inference would be if necessary that their acts were approved by him Taking this to be clear *744 law and it will be seen that the defendant in execution at the time of the levy had nothing more than a mere equitable right to redeem the cotton by paying the debts indorsed by the claimants He had no possession coupled with this equity but only a naked equity which it has been held cannot be reached by an ordinary execution [Perkins and Elliott v Mayfield 5 Porter’s Rep 182]\n",
            "**3 This brings us back to the question whether the execution of the plaintiff was a lien on the growing crop so as to defeat the mortgage to the claimants It has been frequently mooted whether at common law corn &c before it is gathered can be seized under a fieri facias Mr Dane in remarking upon this point says “The American editor of Bacon’s Abridgment says ‘Wheat growing in the ground is a chattel and subject to be taken in execution and the sheriff may suffer it to grow till harvest and then cut and sell it or may perhaps sell it growing and the purchaser will then be entitled to enter for the purpose of cutting and carrying it away” [He cites Whipple v Foot ut supra also Poole’s case Salk 368 1 Bos & P 397 6 East 604 n] But Whipple v Foot seems to be the only case that supports his position that unripe wheat or corn may be taken in execution and the same editor states that nothing can be taken in execution which cannot be sold This position says the learned commentator is no doubt law But it is unnecessary to consider how this matter stands at common law The first section of the act of 1821 “To prevent sheriffs and other officers from levying executions in certain cases enacts that “It shall not be lawful for any sheriff or other officer to levy a writ of fieri facias or other execution on the planted crop of a debtor or person against whom an execution may issue until the crop is gathered” [Aik Dig 167] Now here is an express inhibition to levy an execution on a crop while it remains on or in the ground and until it is severed from the soil to which it owes its growth In respect to property thus situated will the lien of an execution attach eo instanti upon its being placed in the hands of an officer If so the act cited will only have the effect of keeping the right to levy it in abeyance until the crop is gathered The lien of an execution does not only operate so as to prevent the debtor from disposing of the property on which it attaches but gives to the creditor the right to have it sold to satisfy his *745 judgment The lien and the right to levy are intimately connected and if the latter be taken away or suspended the effect at common law is the destruction of the former This principle is fully established by Mansony and Hurtell v The President &c of the Bank of the United States and its assignees and the citations contained in the opinion of the court in that case as also in my opinion in Wood v Gary et al both decided at the last term That it was competent for the legislature to have made it unlawful to levy an execution on particular property until its condition was changed and still to give it a continuing lien cannot be doubted but there is nothing in the act in question to indicate that such is its intention If the object was merely to suspend the sale until the crop was gathered it would have been very easy to have said so in explicit terms but declaring as the statute does in totidem verbis that the execution shall not be levied the legislature must be supposed to have meant what they have expressed The act was induced by the doubts which existed as to what was the common law and was intended to remove those doubts by declaring what should be the law in future It does not create a lien or authorize a levy in a case in which the law as it then existed was silent The idea that the lien attached upon the planted crop as soon as the execution was delivered to the sheriff though the right to levy it was postponed until a severance took place is attempted to be deduced from the last words of the section cited viz “until the crop is gathered” These words cannot upon any just principles of construction be regarded so potent as to give to an execution a retrospective effect They do not refer to the lien if they did they would postpone it until the crop was gathered but it is the levy they relate to and postpone until that event takes place\n",
            "**4 The right to levy an execution on a planted crop then being expressly taken away by the statute the lien which is connected with and consequent upon that right never attaches until severance This being the case the right of the defendant in execution to make the contract which he did is unquestionable and the title of the claimants coupled as it was with the possession was paramount to any lien which the execution could exert\n",
            "The circuit judge may have mistaken the law in supposing that the contract was a sale but if he did an error in that respect was very immaterial for whether a sale or mortgage as we have *746 seen under the facts of the case the defendant in execution has no interest that could be seised and sold under execution There is no assumption of any material fact in the charge but the possession of the claimant the time when acquired the gathering of the crop &c are all referred to the determination of the jury who are instructed if they find them according to the evidence adduced that no lien ever attached in favor of the plaintiff The bona fides of the contract was conceded so that no charge was necessary on that point and it could not with propriety enter into the inquiry of the jury\n",
            "It results from what has been said that the judgment of the circuit court is affirmed\n",
            "\n",
            "DISSENTING OPINION\n",
            "\n",
            "ORMOND J\n",
            "**4 The statute which presents the question before the court is that “it shall not be lawful for any sheriff or other officer to levy a writ of fieei facias or other execution on the planted crop of a debtor or person against whom an execution may issue until the crop is gathered” [Clay’s Dig 210 § 46]\n",
            "I shall not enter upon the enquiry whether at common law an execution could be levied upon a growing crop though I apprehend it would not be difficult to maintain the affirmative of the proposition It is sufficient for my purpose that the statute supposes such to have been the law as it doubtless was the practice\n",
            "This act must be considered in connection with the other acts upon the same subject The policy of the State as indicated by these statutes is undeniably that all the property of a debtor real and personal to which he has a legal title shall be subject to sale by execution and it appears to me that it would be difficult to assign a reason for the exemption of this species of property from the claims of judgment creditors and for giving to the defendant in execution the right to dispose of it It appears to me with all deference that the argument that because the sheriff was prohibited from levying on a ““planted crop” that therefore the execution had lost its lien and the debtor had the right to sell it is a non sequitur The mischief which the statute designed to remedy was the sacrifice which would be necessarily made by the sale of an immature crop the statute enables the debtor to retain it until it matures and by severing it from the soil to put it *747 in a condition to bring its value--the lien in the mean time continuing in the plaintiff in execution\n",
            "**5 If further confirmation of the correctness of this view were necessary it will be found I think in the language employed by the legislature The sheriff is forbidden to levy on a “planted crop” until the crop is gathered Now if the view taken by the majority of the court is correct the right secured to the plaintiff in execution of levying on the crop after it is gathered may be frustrated as it was in this case by a sale by the defendant in execution whilst the crop is in an immature state The construction which has been put upon the statute involves the singular anomaly that the legislature for the protection of the debtor has forbidden the plaintiff in execution to sell the property of his debtor because it is not in a condition to bring its value and yet permits the debtor voluntarily by a sale to submit to the same sacrifice for his own benefit It is in effect a gift to the defendant in execution of the growing crop provided he does not gather it himself but disposes of it in its then condition This I feel a thorough conviction was not the intention of the legislature but that it was to secure him from loss by prohibiting a levy and sale of the crop until it was gathered when the temporary suspension of the right to sell ceased\n",
            "All Citations\n",
            "5 Ala 740 1843 WL 284\n",
            "End of Document\n",
            "© 2019 Thomson Reuters No claim to original US Government Works\n",
            "Citing References (9)\n",
            "Treatment\n",
            "Title\n",
            "Date\n",
            "Type\n",
            "Depth\n",
            "Headnote(s)\n",
            "Cited by\n",
            "1  Booker v Jones’s Adm’x\n",
            "55 Ala 266 271  Ala\n",
            "Trover for Conversion of Cotton with Counts in Case APPEAL from the Circuit Court of Hale Tried before the Hon M J SAFFOLD\n",
            "Dec Term 1876\n",
            "Case\n",
            "—\n",
            "Cited by\n",
            "2  Lehman Durr & Co v Marshall\n",
            "47 Ala 362 376  Ala\n",
            "[TROVER FOR CONVERSION OF COTTON] APPEAL from the City Court of Montgomery Tried before Hon JOHN D CUNNINGHAM\n",
            "Jan Term 1872\n",
            "Case\n",
            "—\n",
            "Cited by\n",
            "3  Bibb v Janney\n",
            "45 Ala 329 334  Ala\n",
            "[GARNISHMENT WAGES WAIVER OF EXEMPTION] APPEAL from City Court of Montgomery Tried before Hon JOHN D CUNNINGHAM\n",
            "Jan Term 1871\n",
            "Case\n",
            "—\n",
            "Cited by\n",
            "4  McKenzie v Lampley\n",
            "31 Ala 526 527  Ala\n",
            "[TRIAL OF RIGHT OF PROPERTY IN COTTON] APPEAL from the Circuit Court of Barbour Tried before the Hon S D HALE\n",
            "Jan Term 1858\n",
            "Case\n",
            "—\n",
            "Cited by\n",
            "5  Evans v Lamar\n",
            "21 Ala 333 335+  Ala\n",
            "ERROR to the Circuit Court of Autauga Tried before the Hon A B MOORE\n",
            "Jun Term 1852\n",
            "Case\n",
            "—\n",
            "Cited by\n",
            " 6  Dewey v Bowman\n",
            "8 Cal 145 147  Cal\n",
            "The judgment of the Court below against Jacob S Cohen should be reversed for the following reasons Because the finding of the Court was so far as Cohen was concerned\n",
            "Jul Term 1857\n",
            "Case\n",
            "—\n",
            "Mentioned by\n",
            "7  Rees v Coats\n",
            "65 Ala 256 258  Ala\n",
            "Trover for Conversion of Three Bales of Cotton APPEAL from the Circuit Court of Etowah Tried before the Hon WM L WHITLOCK\n",
            "Nov Term 1880\n",
            "Case\n",
            "—\n",
            "Mentioned by\n",
            "8  Edwards v Thompson\n",
            "4 SW 913 914  Tenn\n",
            "Appeal from circuit court Weakley county\n",
            "May 1887\n",
            "Case\n",
            "—\n",
            "—\n",
            "9  Growing crops as subject to levy and seizure under attachment or execution\n",
            "103 ALR 464\n",
            "Generally at common law growing crops raised by annual planting while still attached to the soil are regarded as personal chattels subject to levy and seizure under attachment\n",
            "1936\n",
            "ALR\n",
            "—\n",
            "—\n",
            "Table of Authorities (3)\n",
            "Treatment\n",
            "Referenced Title\n",
            "Type\n",
            "Depth\n",
            "Quoted\n",
            "Page Number\n",
            "Mentioned\n",
            "1  Austin v Sawyer\n",
            "9 Cow 39 NYSup 1828\n",
            "Parol evidence is not admissible to contradict or substantially vary a written contract And where A quit-claimed land to W on which a crop of wheat was growing reserving the\n",
            "Case\n",
            "2\n",
            "Cited\n",
            " 2  Perkins v Mayfield\n",
            "5 Port 182 Ala 1837\n",
            "On writ of error to the Circuit Court of Tuskaloosa\n",
            "Case\n",
            "2+\n",
            "Mentioned\n",
            "3  Stewart v Doughty\n",
            "9 Johns 108 NYSup 1812\n",
            "A let to B a farm for six years and A agreed “to render yield and pay to A the one half of all the wheat rye corn and other grain raised on the farm in each year in the\n",
            "Case\n",
            "2\n",
            "Filings\n",
            "There are no Filings for this citation\n",
            "Negative Treatment\n",
            "There are no Negative Treatment results for this citation\n",
            "History\n",
            "There are no History results for this citation\n"
          ],
          "name": "stdout"
        }
      ]
    },
    {
      "cell_type": "code",
      "metadata": {
        "id": "ibvXKvN8e1V8",
        "colab_type": "code",
        "outputId": "53c16078-e08a-4849-bad0-e019fdf0c8f5",
        "colab": {
          "base_uri": "https://localhost:8080/",
          "height": 107
        }
      },
      "source": [
        "#1.2.3\n",
        "import itertools \n",
        "from collections import Counter\n",
        "freq=[]\n",
        "def tokens(text):\n",
        "    return re.findall('[\\w]+', text.lower())\n",
        "words=[]\n",
        "with open(\"file.txt\", \"r\", encoding='cp1252') as f:\n",
        "   for line in f:\n",
        "     line_l=tokens(line)\n",
        "     for i in line_l:\n",
        "\n",
        "      words.append(i.split())\n",
        "words_l=list(itertools.chain.from_iterable(words))\n",
        "top_words=Counter(words_l).most_common(10)\n",
        "print('most frequent words:')\n",
        "print(top_words)\n",
        "rare_words=Counter(words_l).most_common(10)[:-6:-1]\n",
        "print('rare words')\n",
        "print(rare_words)\n",
        "    # sum up the word counts\n",
        "    #total_wordcount_sum += len(word_1)"
      ],
      "execution_count": 0,
      "outputs": [
        {
          "output_type": "stream",
          "text": [
            "most frequent words:\n",
            "[('the', 338), ('of', 142), ('to', 116), ('a', 85), ('and', 83), ('in', 81), ('it', 80), ('that', 56), ('was', 54), ('execution', 50)]\n",
            "rare words\n",
            "[('execution', 50), ('was', 54), ('that', 56), ('it', 80), ('in', 81)]\n"
          ],
          "name": "stdout"
        }
      ]
    },
    {
      "cell_type": "code",
      "metadata": {
        "id": "jyjB7U48vz4V",
        "colab_type": "code",
        "colab": {}
      },
      "source": [
        ""
      ],
      "execution_count": 0,
      "outputs": []
    }
  ]
}